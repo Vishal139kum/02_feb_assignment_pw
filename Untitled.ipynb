{
  "metadata": {
    "language_info": {
      "codemirror_mode": {
        "name": "python",
        "version": 3
      },
      "file_extension": ".py",
      "mimetype": "text/x-python",
      "name": "python",
      "nbconvert_exporter": "python",
      "pygments_lexer": "ipython3",
      "version": "3.8"
    },
    "kernelspec": {
      "name": "python",
      "display_name": "Python (Pyodide)",
      "language": "python"
    }
  },
  "nbformat_minor": 4,
  "nbformat": 4,
  "cells": [
    {
      "cell_type": "markdown",
      "source": "Q1. What are the characteristics of the tuples? Is tuple immutable?",
      "metadata": {}
    },
    {
      "cell_type": "markdown",
      "source": "yes Tupples are immutable, meaning contensts in tupple cannot be changed, below is the example provide.",
      "metadata": {}
    },
    {
      "cell_type": "code",
      "source": "a = (2,3)\na[0]\nprint(a[0])",
      "metadata": {
        "trusted": true
      },
      "execution_count": 4,
      "outputs": [
        {
          "name": "stdout",
          "text": "2\n",
          "output_type": "stream"
        }
      ]
    },
    {
      "cell_type": "code",
      "source": "a[0] = 4\nprint(a)",
      "metadata": {
        "trusted": true
      },
      "execution_count": 32,
      "outputs": [
        {
          "name": "stdout",
          "text": "{'name': {'first_name': 'vishal', 'last_name': 'kumar'}, 'age': 20, 0: 4}\n",
          "output_type": "stream"
        }
      ]
    },
    {
      "cell_type": "markdown",
      "source": "does from the above example it is proved that tupple is immutable.",
      "metadata": {}
    },
    {
      "cell_type": "markdown",
      "source": "Q2. What are the two tuple methods in python? Give an example of each method. Give a reason why\ntuples have only two in-built methods as compared to Lists.",
      "metadata": {}
    },
    {
      "cell_type": "markdown",
      "source": "count() and index() are the two methord of tuple in python, now it as only two methods, since it is immutable, meaning once data cannot be changed, does only two method.\ncount() = counts the specific value passed in count in the tuple\nindex() = return index position of the value in tuple",
      "metadata": {}
    },
    {
      "cell_type": "code",
      "source": "a = (1,2,3,4,3,2,45)\nprint(a.count(3))\nprint(a.index(2))\n\n",
      "metadata": {
        "trusted": true
      },
      "execution_count": 9,
      "outputs": [
        {
          "name": "stdout",
          "text": "2\n1\n",
          "output_type": "stream"
        }
      ]
    },
    {
      "cell_type": "markdown",
      "source": "Q3. Which collection datatypes in python do not allow duplicate items? Write a code using a set to remove\nduplicates from the given list.\n\nList = [1, 1, 1, 2, 1, 3, 1, 4, 2, 1, 2, 2, 2, 3, 2, 4, 3, 1, 3, 2, 3, 3, 3, 4, 4, 1, 4, 2, 4, 3, 4, 4]",
      "metadata": {}
    },
    {
      "cell_type": "markdown",
      "source": "sets do not allow duplicate in python",
      "metadata": {}
    },
    {
      "cell_type": "code",
      "source": "List = [1,1,1,2,1, 3, 1, 4, 2, 1, 2, 2, 2, 3, 2, 4, 3, 1, 3, 2, 3, 3, 3, 4, 4, 1, 4, 2, 4, 3, 4, 4]\n\nset(List)",
      "metadata": {
        "trusted": true
      },
      "execution_count": 12,
      "outputs": [
        {
          "execution_count": 12,
          "output_type": "execute_result",
          "data": {
            "text/plain": "{1, 2, 3, 4}"
          },
          "metadata": {}
        }
      ]
    },
    {
      "cell_type": "markdown",
      "source": "Q4. Explain the difference between the union() and update() methods for a set. Give an example of\neach method.\n\nunion() will add all the elements from both set\nupdate() like union it will also combine both",
      "metadata": {}
    },
    {
      "cell_type": "code",
      "source": "a = {1,2,3,4,5,2}\nb = {1,2,3,9,8,10}\na.update(b)\nprint(a)\n",
      "metadata": {
        "trusted": true
      },
      "execution_count": 17,
      "outputs": [
        {
          "name": "stdout",
          "text": "{1, 2, 3, 4, 5, 8, 9, 10}\n",
          "output_type": "stream"
        }
      ]
    },
    {
      "cell_type": "code",
      "source": "a = {1,2,3,4,5,2}\nb = {1,2,3,9,8,10}\na.union(b)\n\n",
      "metadata": {
        "trusted": true
      },
      "execution_count": 19,
      "outputs": [
        {
          "execution_count": 19,
          "output_type": "execute_result",
          "data": {
            "text/plain": "{1, 2, 3, 4, 5, 8, 9, 10}"
          },
          "metadata": {}
        }
      ]
    },
    {
      "cell_type": "markdown",
      "source": "Q5. What is a dictionary? Give an example. Also, state whether a dictionary is ordered or unordered.",
      "metadata": {}
    },
    {
      "cell_type": "markdown",
      "source": "a dictionary is key, value pair.\na= {'name':vishal,\"age\":22}\nhere keys are name and age\nvalue are vishal,22",
      "metadata": {}
    },
    {
      "cell_type": "markdown",
      "source": "Q6. Can we create a nested dictionary? If so, please give an example by creating a simple one-level\nnested dictionary.",
      "metadata": {}
    },
    {
      "cell_type": "markdown",
      "source": "yes we can ",
      "metadata": {}
    },
    {
      "cell_type": "code",
      "source": "a = {'name':{'first_name':'vishal','last_name':'kumar'},'age':20}\nfor i in a.keys():\n    print(a[i])\n    ",
      "metadata": {
        "trusted": true
      },
      "execution_count": 7,
      "outputs": [
        {
          "name": "stdout",
          "text": "{'first_name': 'vishal', 'last_name': 'kumar'}\n20\n",
          "output_type": "stream"
        }
      ]
    },
    {
      "cell_type": "markdown",
      "source": "Q7. Using setdefault() method, create key named topics in the given dictionary and also add the value of\nthe key as this list ['Python', 'Machine Learning’, 'Deep Learning']\ndict1 = {'language' : 'Python', 'course': 'Data Science Masters'}",
      "metadata": {}
    },
    {
      "cell_type": "code",
      "source": "d = {'language': 'Python', 'course': ' Data Science Masters'}\n# space key added using setdefault() method\nlist1 = ['Python', 'Machine Learning ','Deep Learning']\n\nd.setdefault('topics ', list1)\nprint(d)",
      "metadata": {
        "trusted": true
      },
      "execution_count": 23,
      "outputs": [
        {
          "name": "stdout",
          "text": "{'language': 'Python', 'course': ' Data Science Masters', 'topics ': ['Python', 'Machine Learning ', 'Deep Learning']}\n",
          "output_type": "stream"
        }
      ]
    },
    {
      "cell_type": "markdown",
      "source": "Q8. What are the three view objects in dictionaries? Use the three in-built methods in python to display\nthese three view objects for the given dictionary.\ndict1 = {'Sport': 'Cricket' , 'Teams': ['India', 'Australia', 'England', 'South Africa', 'Sri Lanka', 'New Zealand']}",
      "metadata": {}
    },
    {
      "cell_type": "markdown",
      "source": "keys, values and items, are the tree view objects",
      "metadata": {}
    },
    {
      "cell_type": "code",
      "source": "dict1 = {'Sport': 'Cricket' , 'Teams': ['India', 'Australia', 'England', 'South Africa', 'Sri Lanka', 'New Zealand']}\n\ndict1.keys()",
      "metadata": {
        "trusted": true
      },
      "execution_count": 31,
      "outputs": [
        {
          "execution_count": 31,
          "output_type": "execute_result",
          "data": {
            "text/plain": "dict_keys(['Sport', 'Teams'])"
          },
          "metadata": {}
        }
      ]
    },
    {
      "cell_type": "code",
      "source": "dict1 = {'Sport': 'Cricket' , 'Teams': ['India', 'Australia', 'England', 'South Africa', 'Sri Lanka', 'New Zealand']}\n\ndict1.values()",
      "metadata": {
        "trusted": true
      },
      "execution_count": 30,
      "outputs": [
        {
          "execution_count": 30,
          "output_type": "execute_result",
          "data": {
            "text/plain": "dict_values(['Cricket', ['India', 'Australia', 'England', 'South Africa', 'Sri Lanka', 'New Zealand']])"
          },
          "metadata": {}
        }
      ]
    },
    {
      "cell_type": "code",
      "source": "dict1 = {'Sport': 'Cricket' , 'Teams': ['India', 'Australia', 'England', 'South Africa', 'Sri Lanka', 'New Zealand']}\n\ndict1.items()",
      "metadata": {
        "trusted": true
      },
      "execution_count": 29,
      "outputs": [
        {
          "execution_count": 29,
          "output_type": "execute_result",
          "data": {
            "text/plain": "dict_items([('Sport', 'Cricket'), ('Teams', ['India', 'Australia', 'England', 'South Africa', 'Sri Lanka', 'New Zealand'])])"
          },
          "metadata": {}
        }
      ]
    },
    {
      "cell_type": "code",
      "source": "",
      "metadata": {},
      "execution_count": null,
      "outputs": []
    }
  ]
}