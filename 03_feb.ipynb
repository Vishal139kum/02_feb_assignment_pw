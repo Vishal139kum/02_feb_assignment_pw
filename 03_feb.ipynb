{
  "nbformat": 4,
  "nbformat_minor": 0,
  "metadata": {
    "colab": {
      "provenance": [],
      "authorship_tag": "ABX9TyOHK+dCplQJIvoiw/22/mkl",
      "include_colab_link": true
    },
    "kernelspec": {
      "name": "python3",
      "display_name": "Python 3"
    },
    "language_info": {
      "name": "python"
    }
  },
  "cells": [
    {
      "cell_type": "markdown",
      "metadata": {
        "id": "view-in-github",
        "colab_type": "text"
      },
      "source": [
        "<a href=\"https://colab.research.google.com/github/Vishal139kum/02_feb_assignment_pw/blob/main/03_feb.ipynb\" target=\"_parent\"><img src=\"https://colab.research.google.com/assets/colab-badge.svg\" alt=\"Open In Colab\"/></a>"
      ]
    },
    {
      "cell_type": "markdown",
      "source": [
        "Q1. Which keyword is used to create a function? Create a function to return a list of odd numbers in the\n",
        "range of 1 to 25."
      ],
      "metadata": {
        "id": "vPU7Titr7hfA"
      }
    },
    {
      "cell_type": "markdown",
      "source": [
        "we use def keyword to create function"
      ],
      "metadata": {
        "id": "NFTqkgx57lK4"
      }
    },
    {
      "cell_type": "code",
      "source": [
        "def odd_number(x):\n",
        "  for i in range(1,x+1):\n",
        "    if i%2 !=0:\n",
        "      print(i)\n",
        "odd_number(25)"
      ],
      "metadata": {
        "colab": {
          "base_uri": "https://localhost:8080/"
        },
        "id": "bQiS9Uk97sg0",
        "outputId": "0529daf8-2e78-40a8-8ce7-95cd65ef4df9"
      },
      "execution_count": 1,
      "outputs": [
        {
          "output_type": "stream",
          "name": "stdout",
          "text": [
            "1\n",
            "3\n",
            "5\n",
            "7\n",
            "9\n",
            "11\n",
            "13\n",
            "15\n",
            "17\n",
            "19\n",
            "21\n",
            "23\n",
            "25\n"
          ]
        }
      ]
    },
    {
      "cell_type": "markdown",
      "source": [
        "Q2. Why *args and **kwargs is used in some functions? Create a function each for *args and **kwargs to\n",
        "demonstrate their use."
      ],
      "metadata": {
        "id": "EnjXH42d8J7J"
      }
    },
    {
      "cell_type": "markdown",
      "source": [
        "  *args helps us pass as many argument we want,\n",
        "\n",
        "**kwargs is used for dicitonary to pass as many argument we want "
      ],
      "metadata": {
        "id": "ZOEqo0zlCo44"
      }
    },
    {
      "cell_type": "code",
      "source": [
        "def add(*args):\n",
        "  sum =0\n",
        "  for i in args:\n",
        "    sum = sum+i\n",
        "  return sum\n",
        "\n",
        "sum = [1,2,3,4]\n",
        "print(add(*sum))"
      ],
      "metadata": {
        "colab": {
          "base_uri": "https://localhost:8080/"
        },
        "id": "ycFGWocHDBWW",
        "outputId": "c183e28a-ba1e-4cce-e63e-9a4b0b492443"
      },
      "execution_count": 2,
      "outputs": [
        {
          "output_type": "stream",
          "name": "stdout",
          "text": [
            "10\n"
          ]
        }
      ]
    },
    {
      "cell_type": "code",
      "source": [
        "def display(**kwargs):\n",
        "  for key, value in kwargs.items():\n",
        "    print(key,value)\n",
        "a = {'name':'vishal','age':'22'}\n",
        "(display(**a))"
      ],
      "metadata": {
        "colab": {
          "base_uri": "https://localhost:8080/"
        },
        "id": "kUQQXFirEiNd",
        "outputId": "fa48a127-5b5c-4c77-db16-b39725c134d0"
      },
      "execution_count": 7,
      "outputs": [
        {
          "output_type": "stream",
          "name": "stdout",
          "text": [
            "name vishal\n",
            "age 22\n"
          ]
        }
      ]
    },
    {
      "cell_type": "markdown",
      "source": [
        "Q3. What is an iterator in python? Name the method used to initialise the iterator object and the method\n",
        "used for iteration. Use these methods to print the first five elements of the given list [2, 4, 6, 8, 10, 12, 14, 16,\n",
        "18, 20]."
      ],
      "metadata": {
        "id": "ZH2dM9PWFyyL"
      }
    },
    {
      "cell_type": "code",
      "source": [
        "a =  [2, 4, 6, 8, 10, 12, 14, 16, 18, 20]\n",
        "for i in range(5):\n",
        "  print(a[i])"
      ],
      "metadata": {
        "colab": {
          "base_uri": "https://localhost:8080/"
        },
        "id": "zPul_MawGGGG",
        "outputId": "f6f7bc55-a6a3-4d6b-cf44-cf2896218e8b"
      },
      "execution_count": 8,
      "outputs": [
        {
          "output_type": "stream",
          "name": "stdout",
          "text": [
            "2\n",
            "4\n",
            "6\n",
            "8\n",
            "10\n"
          ]
        }
      ]
    },
    {
      "cell_type": "markdown",
      "source": [
        "Q4. What is a generator function in python? Why yield keyword is used? Give an example of a generator\n",
        "function."
      ],
      "metadata": {
        "id": "ULqaWM7IGbN8"
      }
    },
    {
      "cell_type": "markdown",
      "source": [
        "generatir functions perform task by using yeild key word, return statement terminates the program, by yield works for the number of time it is called"
      ],
      "metadata": {
        "id": "8ZKsxpnqHcfj"
      }
    },
    {
      "cell_type": "code",
      "source": [
        "def add_generator():\n",
        "  a = 0\n",
        "  a+=2\n",
        "  yield a\n",
        "  a+=2\n",
        "  yield a\n",
        "num = add_generator()\n",
        "print(next(num))\n",
        "print(next(num))\n"
      ],
      "metadata": {
        "colab": {
          "base_uri": "https://localhost:8080/"
        },
        "id": "4ObQ75pSIKLE",
        "outputId": "c7a1e364-022f-4126-f2de-5905b0f18cb2"
      },
      "execution_count": 16,
      "outputs": [
        {
          "output_type": "stream",
          "name": "stdout",
          "text": [
            "2\n",
            "4\n"
          ]
        }
      ]
    }
  ]
}